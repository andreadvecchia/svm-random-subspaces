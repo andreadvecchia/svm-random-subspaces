{
 "cells": [
  {
   "cell_type": "markdown",
   "id": "7a4020c5",
   "metadata": {},
   "source": [
    "# Random-Subspace SVM — Demo Experiment\n",
    "\n",
    "This notebook shows a reproducible, 5-minute demo comparing a Random‑Subspace SVM to a baseline SVM.\n",
    "Run all cells to reproduce results."
   ]
  },
  {
   "cell_type": "code",
   "execution_count": null,
   "id": "1fa1cb8a",
   "metadata": {},
   "outputs": [],
   "source": [
    "# %pip install -q numpy scipy scikit-learn matplotlib\n",
    "import numpy as np\n",
    "from time import perf_counter\n",
    "import matplotlib.pyplot as plt\n",
    "from sklearn.model_selection import train_test_split, cross_val_score\n",
    "from sklearn.metrics import accuracy_score, ConfusionMatrixDisplay\n",
    "from sklearn.svm import SVC, LinearSVC\n",
    "from sklearn.datasets import make_classification\n",
    "from sklearn.preprocessing import StandardScaler\n",
    "from sklearn.pipeline import Pipeline\n",
    "from svm_random_subspaces import RandomSubspaceSVM\n"
   ]
  },
  {
   "cell_type": "code",
   "execution_count": null,
   "id": "3948793f",
   "metadata": {},
   "outputs": [],
   "source": [
    "RANDOM_SEED = 7\n",
    "X, y = make_classification(n_samples=2000, n_features=50, n_informative=10,\n",
    "                           n_redundant=10, class_sep=1.2, flip_y=0.02,\n",
    "                           random_state=RANDOM_SEED)\n",
    "X_train, X_test, y_train, y_test = train_test_split(\n",
    "    X, y, test_size=0.25, random_state=RANDOM_SEED, stratify=y\n",
    ")\n",
    "X_train.shape, X_test.shape\n"
   ]
  },
  {
   "cell_type": "code",
   "execution_count": null,
   "id": "87ee2e1f",
   "metadata": {},
   "outputs": [],
   "source": [
    "baseline = Pipeline([\n",
    "    ('scaler', StandardScaler(with_mean=True)),\n",
    "    ('clf', SVC(kernel='rbf', C=1.0, gamma='scale'))\n",
    "])\n",
    "rssvm = RandomSubspaceSVM(base_estimator=LinearSVC(dual=False), M=25, k=20,\n",
    "                          voting='soft', random_state=RANDOM_SEED, scale=True)\n",
    "import time\n",
    "t0=time.time(); baseline.fit(X_train, y_train); t_baseline=time.time()-t0\n",
    "t0=time.time(); rssvm.fit(X_train, y_train);     t_rssvm=time.time()-t0\n",
    "yhat_base = baseline.predict(X_test)\n",
    "yhat_rss  = rssvm.predict(X_test)\n",
    "print(f\"Baseline SVM (RBF): acc={accuracy_score(y_test, yhat_base):.3f} time={t_baseline*1e3:.0f}ms\")\n",
    "print(f\"Random‑Subspace SVM: acc={accuracy_score(y_test, yhat_rss):.3f} time={t_rssvm*1e3:.0f}ms\")\n"
   ]
  },
  {
   "cell_type": "code",
   "execution_count": null,
   "id": "6d31e4c9",
   "metadata": {},
   "outputs": [],
   "source": [
    "fig, axes = plt.subplots(1, 2, figsize=(10, 4))\n",
    "ConfusionMatrixDisplay.from_predictions(y_test, yhat_base, ax=axes[0], colorbar=False)\n",
    "axes[0].set_title('Baseline SVM (RBF)')\n",
    "ConfusionMatrixDisplay.from_predictions(y_test, yhat_rss, ax=axes[1], colorbar=False)\n",
    "axes[1].set_title('Random‑Subspace SVM')\n",
    "plt.tight_layout(); plt.show()\n"
   ]
  },
  {
   "cell_type": "markdown",
   "id": "0022164c",
   "metadata": {},
   "source": [
    "**Next steps**: vary `M`, `k`, try RBF base SVMs, add datasets, and log seeds for full reproducibility."
   ]
  }
 ],
 "metadata": {},
 "nbformat": 4,
 "nbformat_minor": 5
}
